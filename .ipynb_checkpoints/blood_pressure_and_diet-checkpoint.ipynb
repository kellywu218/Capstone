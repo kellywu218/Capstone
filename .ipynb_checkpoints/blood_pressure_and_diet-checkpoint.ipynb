{
 "cells": [
  {
   "cell_type": "markdown",
   "metadata": {},
   "source": [
    "# Predicting Blood Pressure Based on Diet\n",
    "By: [Kelly Wu](https://www.linkedin.com/in/kelly-wu-nj/)"
   ]
  },
  {
   "cell_type": "markdown",
   "metadata": {},
   "source": [
    "## Problem Statement\n",
    "\n",
    "We have all gone to the doctor at least once in our life and went through the basic health checks: height, weight, temperature, and blood pressure. We're all familiar with the process of having our arm squeezed tightly by a cuff while a our doctor listens in with his or her stethoscope and watches the little monitor intently. Then we all hope to never hear that we have high blood pressure. High blood pressure, also known as a \"silent killer,\" normally doesn't induce any health symptoms, but can lead to a heart attack or stroke. What's worse is that hypertension is so common that it is a leading risk for death and disability worldwide (Dr. Paul Whelton, an expert in hypertension and kidney disease at Tulane University). \n",
    "\n",
    "What is blood pressure? Blood pressure is given as two numbers. The first number represents the pressure in your blood vessels as the heart beats (systolic pressure). The second is the pressure as your heart relaxes and fills with blood (diastolic pressure). Normal blood pressure is considered to be 120/80 or lower, while high blood pressure is considered to be 140/90 or higher. So what affects blood pressure? There are numerous factors that can affect blood pressure and it's normal for it to fluctuate throughout the day. The time of day, the foods you eat, and stress are a few contributors to blood pressure. \n",
    "\n",
    "Food is essential to life, but majority of the population simply eat what's good to them or what's convenient. There aren't many people who actually go through the trouble of calculating the necessary macronutrients needed on a daily basis. Culture also has another factor that affects diet where maybe certain foods like rice is the primary carbohydrate versus pasta in another culture. With such differences in diet and diet being a factor that affects blood pressure, can we predict blood pressure simply based on what we eat? Maybe our predictions will cause us to rethink what we eat or put more consideration into eating more variety. \n",
    "\n",
    "After our regression modeling, we can refer to our $R^2$ scores to determine model accuracy. Once we can determine any relationships and correlations between diet and basic health knowledge such as height and weight and blood pressure. Our goal is to help nutritionists better assist their clients as well as allow the typical layman to determine their risk for high blood pressure without the hassle of going to a physician or spending money to purchase at at home blood pressure machine. "
   ]
  },
  {
   "cell_type": "markdown",
   "metadata": {},
   "source": [
    "## Executive Summary\n",
    "\n",
    "We initially begin by gathering public data from The National Health and Nurtition Examination Survey (NHANES) from 2013 - 2014. Luckily, [Kaggle](https://www.kaggle.com/cdc/national-health-and-nutrition-examination-survey#diet.csv) organized the data for us into simple `.csv` files."
   ]
  },
  {
   "cell_type": "markdown",
   "metadata": {},
   "source": [
    "## Contents: \n",
    "- [Imports](#Imports)\n",
    "- [Cleaning Our Data](#Cleaning-Our-Data)\n",
    "    - [Handling Null Values](#Handling-Null-Values)\n",
    "- [Exploratory Data Analysis](#Exploratory-Data-Analysis)\n",
    "    - [Visualizations](#Visualizations)\n",
    "- [Preprocessing](#Preprocessing)\n",
    "- [Regression Modeling](#Regression-Modeling)\n",
    "    - [Lasso](#Lasso)\n",
    "    - [Ridge](#Ridge)\n",
    "    - [Elastic Net](#Elastic-Net)\n",
    "- [Outside Research](#Outside-Research)\n",
    "- [Conclusions](#Conclusions)\n",
    "- [Recommendations](#Recommendations)\n",
    "- [Sources](#Sources)"
   ]
  },
  {
   "cell_type": "markdown",
   "metadata": {},
   "source": [
    "### Imports\n",
    "Import our necessary libraries and `csv` files that contain our datasets to help answer our problem statement. Our datasets contain responses from almost 10,000 individuals regarding various health and dietary questions. \n",
    "\n",
    "[Back to Contents](#Contents:)"
   ]
  },
  {
   "cell_type": "code",
   "execution_count": 67,
   "metadata": {},
   "outputs": [],
   "source": [
    "# Importing libraries\n",
    "import numpy as np\n",
    "import pandas as pd\n",
    "import matplotlib.pyplot as plt \n",
    "%matplotlib inline"
   ]
  },
  {
   "cell_type": "code",
   "execution_count": 68,
   "metadata": {},
   "outputs": [],
   "source": [
    "# Importing our datasets\n",
    "diet_df = pd.read_csv('./datasets/diet.csv')\n",
    "exam_df = pd.read_csv('./datasets/examination.csv')"
   ]
  },
  {
   "cell_type": "code",
   "execution_count": 69,
   "metadata": {},
   "outputs": [
    {
     "data": {
      "text/html": [
       "<div>\n",
       "<style scoped>\n",
       "    .dataframe tbody tr th:only-of-type {\n",
       "        vertical-align: middle;\n",
       "    }\n",
       "\n",
       "    .dataframe tbody tr th {\n",
       "        vertical-align: top;\n",
       "    }\n",
       "\n",
       "    .dataframe thead th {\n",
       "        text-align: right;\n",
       "    }\n",
       "</style>\n",
       "<table border=\"1\" class=\"dataframe\">\n",
       "  <thead>\n",
       "    <tr style=\"text-align: right;\">\n",
       "      <th></th>\n",
       "      <th>SEQN</th>\n",
       "      <th>WTDRD1</th>\n",
       "      <th>WTDR2D</th>\n",
       "      <th>DR1DRSTZ</th>\n",
       "      <th>DR1EXMER</th>\n",
       "      <th>DRABF</th>\n",
       "      <th>DRDINT</th>\n",
       "      <th>DR1DBIH</th>\n",
       "      <th>DR1DAY</th>\n",
       "      <th>DR1LANG</th>\n",
       "      <th>...</th>\n",
       "      <th>DRD370QQ</th>\n",
       "      <th>DRD370R</th>\n",
       "      <th>DRD370RQ</th>\n",
       "      <th>DRD370S</th>\n",
       "      <th>DRD370SQ</th>\n",
       "      <th>DRD370T</th>\n",
       "      <th>DRD370TQ</th>\n",
       "      <th>DRD370U</th>\n",
       "      <th>DRD370UQ</th>\n",
       "      <th>DRD370V</th>\n",
       "    </tr>\n",
       "  </thead>\n",
       "  <tbody>\n",
       "    <tr>\n",
       "      <th>0</th>\n",
       "      <td>73557</td>\n",
       "      <td>16888.327864</td>\n",
       "      <td>12930.890649</td>\n",
       "      <td>1</td>\n",
       "      <td>49.0</td>\n",
       "      <td>2.0</td>\n",
       "      <td>2.0</td>\n",
       "      <td>6.0</td>\n",
       "      <td>2.0</td>\n",
       "      <td>1.0</td>\n",
       "      <td>...</td>\n",
       "      <td>NaN</td>\n",
       "      <td>NaN</td>\n",
       "      <td>NaN</td>\n",
       "      <td>NaN</td>\n",
       "      <td>NaN</td>\n",
       "      <td>NaN</td>\n",
       "      <td>NaN</td>\n",
       "      <td>NaN</td>\n",
       "      <td>NaN</td>\n",
       "      <td>NaN</td>\n",
       "    </tr>\n",
       "    <tr>\n",
       "      <th>1</th>\n",
       "      <td>73558</td>\n",
       "      <td>17932.143865</td>\n",
       "      <td>12684.148869</td>\n",
       "      <td>1</td>\n",
       "      <td>59.0</td>\n",
       "      <td>2.0</td>\n",
       "      <td>2.0</td>\n",
       "      <td>4.0</td>\n",
       "      <td>1.0</td>\n",
       "      <td>1.0</td>\n",
       "      <td>...</td>\n",
       "      <td>NaN</td>\n",
       "      <td>2.0</td>\n",
       "      <td>NaN</td>\n",
       "      <td>2.0</td>\n",
       "      <td>NaN</td>\n",
       "      <td>2.0</td>\n",
       "      <td>NaN</td>\n",
       "      <td>2.0</td>\n",
       "      <td>NaN</td>\n",
       "      <td>2.0</td>\n",
       "    </tr>\n",
       "    <tr>\n",
       "      <th>2</th>\n",
       "      <td>73559</td>\n",
       "      <td>59641.812930</td>\n",
       "      <td>39394.236709</td>\n",
       "      <td>1</td>\n",
       "      <td>49.0</td>\n",
       "      <td>2.0</td>\n",
       "      <td>2.0</td>\n",
       "      <td>18.0</td>\n",
       "      <td>6.0</td>\n",
       "      <td>1.0</td>\n",
       "      <td>...</td>\n",
       "      <td>NaN</td>\n",
       "      <td>NaN</td>\n",
       "      <td>NaN</td>\n",
       "      <td>NaN</td>\n",
       "      <td>NaN</td>\n",
       "      <td>NaN</td>\n",
       "      <td>NaN</td>\n",
       "      <td>NaN</td>\n",
       "      <td>NaN</td>\n",
       "      <td>NaN</td>\n",
       "    </tr>\n",
       "    <tr>\n",
       "      <th>3</th>\n",
       "      <td>73560</td>\n",
       "      <td>142203.069917</td>\n",
       "      <td>125966.366442</td>\n",
       "      <td>1</td>\n",
       "      <td>54.0</td>\n",
       "      <td>2.0</td>\n",
       "      <td>2.0</td>\n",
       "      <td>21.0</td>\n",
       "      <td>3.0</td>\n",
       "      <td>1.0</td>\n",
       "      <td>...</td>\n",
       "      <td>NaN</td>\n",
       "      <td>NaN</td>\n",
       "      <td>NaN</td>\n",
       "      <td>NaN</td>\n",
       "      <td>NaN</td>\n",
       "      <td>NaN</td>\n",
       "      <td>NaN</td>\n",
       "      <td>NaN</td>\n",
       "      <td>NaN</td>\n",
       "      <td>NaN</td>\n",
       "    </tr>\n",
       "    <tr>\n",
       "      <th>4</th>\n",
       "      <td>73561</td>\n",
       "      <td>59052.357033</td>\n",
       "      <td>39004.892993</td>\n",
       "      <td>1</td>\n",
       "      <td>63.0</td>\n",
       "      <td>2.0</td>\n",
       "      <td>2.0</td>\n",
       "      <td>18.0</td>\n",
       "      <td>1.0</td>\n",
       "      <td>1.0</td>\n",
       "      <td>...</td>\n",
       "      <td>NaN</td>\n",
       "      <td>2.0</td>\n",
       "      <td>NaN</td>\n",
       "      <td>2.0</td>\n",
       "      <td>NaN</td>\n",
       "      <td>2.0</td>\n",
       "      <td>NaN</td>\n",
       "      <td>2.0</td>\n",
       "      <td>NaN</td>\n",
       "      <td>2.0</td>\n",
       "    </tr>\n",
       "  </tbody>\n",
       "</table>\n",
       "<p>5 rows × 168 columns</p>\n",
       "</div>"
      ],
      "text/plain": [
       "    SEQN         WTDRD1         WTDR2D  DR1DRSTZ  DR1EXMER  DRABF  DRDINT  \\\n",
       "0  73557   16888.327864   12930.890649         1      49.0    2.0     2.0   \n",
       "1  73558   17932.143865   12684.148869         1      59.0    2.0     2.0   \n",
       "2  73559   59641.812930   39394.236709         1      49.0    2.0     2.0   \n",
       "3  73560  142203.069917  125966.366442         1      54.0    2.0     2.0   \n",
       "4  73561   59052.357033   39004.892993         1      63.0    2.0     2.0   \n",
       "\n",
       "   DR1DBIH  DR1DAY  DR1LANG  ...  DRD370QQ  DRD370R  DRD370RQ  DRD370S  \\\n",
       "0      6.0     2.0      1.0  ...       NaN      NaN       NaN      NaN   \n",
       "1      4.0     1.0      1.0  ...       NaN      2.0       NaN      2.0   \n",
       "2     18.0     6.0      1.0  ...       NaN      NaN       NaN      NaN   \n",
       "3     21.0     3.0      1.0  ...       NaN      NaN       NaN      NaN   \n",
       "4     18.0     1.0      1.0  ...       NaN      2.0       NaN      2.0   \n",
       "\n",
       "   DRD370SQ  DRD370T  DRD370TQ  DRD370U  DRD370UQ  DRD370V  \n",
       "0       NaN      NaN       NaN      NaN       NaN      NaN  \n",
       "1       NaN      2.0       NaN      2.0       NaN      2.0  \n",
       "2       NaN      NaN       NaN      NaN       NaN      NaN  \n",
       "3       NaN      NaN       NaN      NaN       NaN      NaN  \n",
       "4       NaN      2.0       NaN      2.0       NaN      2.0  \n",
       "\n",
       "[5 rows x 168 columns]"
      ]
     },
     "execution_count": 69,
     "metadata": {},
     "output_type": "execute_result"
    }
   ],
   "source": [
    "# Preview our dietary data\n",
    "diet_df.head()"
   ]
  },
  {
   "cell_type": "code",
   "execution_count": 70,
   "metadata": {},
   "outputs": [
    {
     "data": {
      "text/html": [
       "<div>\n",
       "<style scoped>\n",
       "    .dataframe tbody tr th:only-of-type {\n",
       "        vertical-align: middle;\n",
       "    }\n",
       "\n",
       "    .dataframe tbody tr th {\n",
       "        vertical-align: top;\n",
       "    }\n",
       "\n",
       "    .dataframe thead th {\n",
       "        text-align: right;\n",
       "    }\n",
       "</style>\n",
       "<table border=\"1\" class=\"dataframe\">\n",
       "  <thead>\n",
       "    <tr style=\"text-align: right;\">\n",
       "      <th></th>\n",
       "      <th>SEQN</th>\n",
       "      <th>PEASCST1</th>\n",
       "      <th>PEASCTM1</th>\n",
       "      <th>PEASCCT1</th>\n",
       "      <th>BPXCHR</th>\n",
       "      <th>BPAARM</th>\n",
       "      <th>BPACSZ</th>\n",
       "      <th>BPXPLS</th>\n",
       "      <th>BPXPULS</th>\n",
       "      <th>BPXPTY</th>\n",
       "      <th>...</th>\n",
       "      <th>CSXLEAOD</th>\n",
       "      <th>CSXSOAOD</th>\n",
       "      <th>CSXGRAOD</th>\n",
       "      <th>CSXONOD</th>\n",
       "      <th>CSXNGSOD</th>\n",
       "      <th>CSXSLTRT</th>\n",
       "      <th>CSXSLTRG</th>\n",
       "      <th>CSXNART</th>\n",
       "      <th>CSXNARG</th>\n",
       "      <th>CSAEFFRT</th>\n",
       "    </tr>\n",
       "  </thead>\n",
       "  <tbody>\n",
       "    <tr>\n",
       "      <th>0</th>\n",
       "      <td>73557</td>\n",
       "      <td>1</td>\n",
       "      <td>620.0</td>\n",
       "      <td>NaN</td>\n",
       "      <td>NaN</td>\n",
       "      <td>1.0</td>\n",
       "      <td>4.0</td>\n",
       "      <td>86.0</td>\n",
       "      <td>1.0</td>\n",
       "      <td>1.0</td>\n",
       "      <td>...</td>\n",
       "      <td>2.0</td>\n",
       "      <td>1.0</td>\n",
       "      <td>1.0</td>\n",
       "      <td>1.0</td>\n",
       "      <td>4.0</td>\n",
       "      <td>62.0</td>\n",
       "      <td>1.0</td>\n",
       "      <td>NaN</td>\n",
       "      <td>NaN</td>\n",
       "      <td>1.0</td>\n",
       "    </tr>\n",
       "    <tr>\n",
       "      <th>1</th>\n",
       "      <td>73558</td>\n",
       "      <td>1</td>\n",
       "      <td>766.0</td>\n",
       "      <td>NaN</td>\n",
       "      <td>NaN</td>\n",
       "      <td>1.0</td>\n",
       "      <td>4.0</td>\n",
       "      <td>74.0</td>\n",
       "      <td>1.0</td>\n",
       "      <td>1.0</td>\n",
       "      <td>...</td>\n",
       "      <td>3.0</td>\n",
       "      <td>1.0</td>\n",
       "      <td>2.0</td>\n",
       "      <td>3.0</td>\n",
       "      <td>4.0</td>\n",
       "      <td>28.0</td>\n",
       "      <td>1.0</td>\n",
       "      <td>NaN</td>\n",
       "      <td>NaN</td>\n",
       "      <td>1.0</td>\n",
       "    </tr>\n",
       "    <tr>\n",
       "      <th>2</th>\n",
       "      <td>73559</td>\n",
       "      <td>1</td>\n",
       "      <td>665.0</td>\n",
       "      <td>NaN</td>\n",
       "      <td>NaN</td>\n",
       "      <td>1.0</td>\n",
       "      <td>4.0</td>\n",
       "      <td>68.0</td>\n",
       "      <td>1.0</td>\n",
       "      <td>1.0</td>\n",
       "      <td>...</td>\n",
       "      <td>2.0</td>\n",
       "      <td>1.0</td>\n",
       "      <td>2.0</td>\n",
       "      <td>3.0</td>\n",
       "      <td>4.0</td>\n",
       "      <td>49.0</td>\n",
       "      <td>1.0</td>\n",
       "      <td>NaN</td>\n",
       "      <td>NaN</td>\n",
       "      <td>3.0</td>\n",
       "    </tr>\n",
       "    <tr>\n",
       "      <th>3</th>\n",
       "      <td>73560</td>\n",
       "      <td>1</td>\n",
       "      <td>803.0</td>\n",
       "      <td>NaN</td>\n",
       "      <td>NaN</td>\n",
       "      <td>1.0</td>\n",
       "      <td>2.0</td>\n",
       "      <td>64.0</td>\n",
       "      <td>1.0</td>\n",
       "      <td>1.0</td>\n",
       "      <td>...</td>\n",
       "      <td>NaN</td>\n",
       "      <td>NaN</td>\n",
       "      <td>NaN</td>\n",
       "      <td>NaN</td>\n",
       "      <td>NaN</td>\n",
       "      <td>NaN</td>\n",
       "      <td>NaN</td>\n",
       "      <td>NaN</td>\n",
       "      <td>NaN</td>\n",
       "      <td>NaN</td>\n",
       "    </tr>\n",
       "    <tr>\n",
       "      <th>4</th>\n",
       "      <td>73561</td>\n",
       "      <td>1</td>\n",
       "      <td>949.0</td>\n",
       "      <td>NaN</td>\n",
       "      <td>NaN</td>\n",
       "      <td>1.0</td>\n",
       "      <td>3.0</td>\n",
       "      <td>92.0</td>\n",
       "      <td>1.0</td>\n",
       "      <td>1.0</td>\n",
       "      <td>...</td>\n",
       "      <td>3.0</td>\n",
       "      <td>1.0</td>\n",
       "      <td>4.0</td>\n",
       "      <td>3.0</td>\n",
       "      <td>4.0</td>\n",
       "      <td>NaN</td>\n",
       "      <td>NaN</td>\n",
       "      <td>NaN</td>\n",
       "      <td>NaN</td>\n",
       "      <td>1.0</td>\n",
       "    </tr>\n",
       "  </tbody>\n",
       "</table>\n",
       "<p>5 rows × 224 columns</p>\n",
       "</div>"
      ],
      "text/plain": [
       "    SEQN  PEASCST1  PEASCTM1  PEASCCT1  BPXCHR  BPAARM  BPACSZ  BPXPLS  \\\n",
       "0  73557         1     620.0       NaN     NaN     1.0     4.0    86.0   \n",
       "1  73558         1     766.0       NaN     NaN     1.0     4.0    74.0   \n",
       "2  73559         1     665.0       NaN     NaN     1.0     4.0    68.0   \n",
       "3  73560         1     803.0       NaN     NaN     1.0     2.0    64.0   \n",
       "4  73561         1     949.0       NaN     NaN     1.0     3.0    92.0   \n",
       "\n",
       "   BPXPULS  BPXPTY  ...  CSXLEAOD  CSXSOAOD  CSXGRAOD  CSXONOD  CSXNGSOD  \\\n",
       "0      1.0     1.0  ...       2.0       1.0       1.0      1.0       4.0   \n",
       "1      1.0     1.0  ...       3.0       1.0       2.0      3.0       4.0   \n",
       "2      1.0     1.0  ...       2.0       1.0       2.0      3.0       4.0   \n",
       "3      1.0     1.0  ...       NaN       NaN       NaN      NaN       NaN   \n",
       "4      1.0     1.0  ...       3.0       1.0       4.0      3.0       4.0   \n",
       "\n",
       "   CSXSLTRT  CSXSLTRG  CSXNART  CSXNARG  CSAEFFRT  \n",
       "0      62.0       1.0      NaN      NaN       1.0  \n",
       "1      28.0       1.0      NaN      NaN       1.0  \n",
       "2      49.0       1.0      NaN      NaN       3.0  \n",
       "3       NaN       NaN      NaN      NaN       NaN  \n",
       "4       NaN       NaN      NaN      NaN       1.0  \n",
       "\n",
       "[5 rows x 224 columns]"
      ]
     },
     "execution_count": 70,
     "metadata": {},
     "output_type": "execute_result"
    }
   ],
   "source": [
    "# Preview our examinations data\n",
    "exam_df.head()"
   ]
  },
  {
   "cell_type": "code",
   "execution_count": 71,
   "metadata": {},
   "outputs": [
    {
     "data": {
      "text/plain": [
       "(9813, 168)"
      ]
     },
     "execution_count": 71,
     "metadata": {},
     "output_type": "execute_result"
    }
   ],
   "source": [
    "# Look at the count of rows and columns \n",
    "diet_df.shape"
   ]
  },
  {
   "cell_type": "code",
   "execution_count": 72,
   "metadata": {},
   "outputs": [
    {
     "data": {
      "text/plain": [
       "(9813, 224)"
      ]
     },
     "execution_count": 72,
     "metadata": {},
     "output_type": "execute_result"
    }
   ],
   "source": [
    "# Look at the count of rows and columns \n",
    "exam_df.shape"
   ]
  },
  {
   "cell_type": "markdown",
   "metadata": {},
   "source": [
    "From importing and previewing our datasets, we can see that there are many `Nan` values, hundreds of columns that may or may not be crucial to us, and column names that aren't clear as to what values fall under it. \n",
    "\n",
    "### Cleaning Our Data\n",
    "By referring to the dietary and examination variable lists from the NHANES website, we can see what each column is referring to and perform some cleaning. From the variable lists, we determine which columns are important to us and can provide a new column name that is easier to distinguish what the values are corresponding to. \n",
    "\n",
    "[Back to Contents](#Contents:)"
   ]
  },
  {
   "cell_type": "code",
   "execution_count": 73,
   "metadata": {},
   "outputs": [],
   "source": [
    "# Creating a data dictionary to rename columns\n",
    "diet_dict = {\n",
    "    'DR1.320Z' : 'water', \n",
    "    'DR1TCAFF' : 'caffeine', \n",
    "    'DR1TALCO' : 'alcohol', \n",
    "    'DR1TCALC' : 'calcium', \n",
    "    'DR1TCARB' : 'carbs', \n",
    "    'DR1TCHOL' : 'cholesterol',\n",
    "    'DR1TFIBE' : 'fiber', \n",
    "    'DR1TNUMF' : 'total_foods', \n",
    "    'DR1TPROT' : 'protein', \n",
    "    'DR1TPOTA' : 'potassium', \n",
    "    'DR1TSODI' : 'sodium',\n",
    "    'DR1TSUGR' : 'sugar',\n",
    "    'DR1TTFAT' : 'fat',\n",
    "    'DRQSDIET' : 'on_a_diet', \n",
    "}"
   ]
  },
  {
   "cell_type": "code",
   "execution_count": 74,
   "metadata": {},
   "outputs": [],
   "source": [
    "# Creating a data dictionary to rename columns\n",
    "exam_dict = {\n",
    "    'BPXDI1' : 'diastolic_1', \n",
    "    'BPXDI2' : 'diastolic_2',\n",
    "    'BPXDI3' : 'diastolic_3',\n",
    "    'BPXDI4' : 'diastolic_4',\n",
    "    'BPXSY1' : 'systolic_1', \n",
    "    'BPXSY2' : 'systolic_2', \n",
    "    'BPXSY3' : 'systolic_3', \n",
    "    'BPXSY4' : 'systolic_4',\n",
    "    'PEASCTM1' : 'bp_time', \n",
    "    'PEASCCT1' : 'bp_comment', \n",
    "    'PEASCST1' : 'bp_status', \n",
    "    'BMXHT' : 'height', \n",
    "    'BMXWT' : 'weight'\n",
    "}"
   ]
  },
  {
   "cell_type": "code",
   "execution_count": 75,
   "metadata": {},
   "outputs": [],
   "source": [
    "# Isolating desired columns in dataframe\n",
    "diet_columns = []\n",
    "for col in diet_dict: \n",
    "    diet_columns.append(col)\n",
    "\n",
    "diet_df = diet_df[diet_columns]"
   ]
  },
  {
   "cell_type": "code",
   "execution_count": 76,
   "metadata": {},
   "outputs": [],
   "source": [
    "# Isolating desired columns in dataframe\n",
    "exam_columns = []\n",
    "for col in exam_dict: \n",
    "    exam_columns.append(col)\n",
    "\n",
    "exam_df = exam_df[exam_columns]"
   ]
  },
  {
   "cell_type": "code",
   "execution_count": 77,
   "metadata": {},
   "outputs": [],
   "source": [
    "# Rename columns with values from data dictionaries\n",
    "diet = diet_df.rename(columns = diet_dict)\n",
    "exam = exam_df.rename(columns = exam_dict)"
   ]
  },
  {
   "cell_type": "code",
   "execution_count": 78,
   "metadata": {},
   "outputs": [
    {
     "data": {
      "text/html": [
       "<div>\n",
       "<style scoped>\n",
       "    .dataframe tbody tr th:only-of-type {\n",
       "        vertical-align: middle;\n",
       "    }\n",
       "\n",
       "    .dataframe tbody tr th {\n",
       "        vertical-align: top;\n",
       "    }\n",
       "\n",
       "    .dataframe thead th {\n",
       "        text-align: right;\n",
       "    }\n",
       "</style>\n",
       "<table border=\"1\" class=\"dataframe\">\n",
       "  <thead>\n",
       "    <tr style=\"text-align: right;\">\n",
       "      <th></th>\n",
       "      <th>water</th>\n",
       "      <th>caffeine</th>\n",
       "      <th>alcohol</th>\n",
       "      <th>calcium</th>\n",
       "      <th>carbs</th>\n",
       "      <th>cholesterol</th>\n",
       "      <th>fiber</th>\n",
       "      <th>total_foods</th>\n",
       "      <th>protein</th>\n",
       "      <th>potassium</th>\n",
       "      <th>sodium</th>\n",
       "      <th>sugar</th>\n",
       "      <th>fat</th>\n",
       "      <th>on_a_diet</th>\n",
       "    </tr>\n",
       "  </thead>\n",
       "  <tbody>\n",
       "    <tr>\n",
       "      <th>0</th>\n",
       "      <td>960.0</td>\n",
       "      <td>203.0</td>\n",
       "      <td>0.0</td>\n",
       "      <td>949.0</td>\n",
       "      <td>239.59</td>\n",
       "      <td>209.0</td>\n",
       "      <td>10.8</td>\n",
       "      <td>11.0</td>\n",
       "      <td>43.63</td>\n",
       "      <td>2228.0</td>\n",
       "      <td>1323.0</td>\n",
       "      <td>176.47</td>\n",
       "      <td>52.81</td>\n",
       "      <td>2.0</td>\n",
       "    </tr>\n",
       "    <tr>\n",
       "      <th>1</th>\n",
       "      <td>360.0</td>\n",
       "      <td>240.0</td>\n",
       "      <td>119.0</td>\n",
       "      <td>3193.0</td>\n",
       "      <td>423.78</td>\n",
       "      <td>2584.0</td>\n",
       "      <td>16.7</td>\n",
       "      <td>8.0</td>\n",
       "      <td>338.13</td>\n",
       "      <td>4930.0</td>\n",
       "      <td>9726.0</td>\n",
       "      <td>44.99</td>\n",
       "      <td>124.29</td>\n",
       "      <td>2.0</td>\n",
       "    </tr>\n",
       "    <tr>\n",
       "      <th>2</th>\n",
       "      <td>1254.0</td>\n",
       "      <td>45.0</td>\n",
       "      <td>0.0</td>\n",
       "      <td>877.0</td>\n",
       "      <td>224.39</td>\n",
       "      <td>88.0</td>\n",
       "      <td>9.9</td>\n",
       "      <td>27.0</td>\n",
       "      <td>64.61</td>\n",
       "      <td>1694.0</td>\n",
       "      <td>2943.0</td>\n",
       "      <td>102.90</td>\n",
       "      <td>65.97</td>\n",
       "      <td>1.0</td>\n",
       "    </tr>\n",
       "  </tbody>\n",
       "</table>\n",
       "</div>"
      ],
      "text/plain": [
       "    water  caffeine  alcohol  calcium   carbs  cholesterol  fiber  \\\n",
       "0   960.0     203.0      0.0    949.0  239.59        209.0   10.8   \n",
       "1   360.0     240.0    119.0   3193.0  423.78       2584.0   16.7   \n",
       "2  1254.0      45.0      0.0    877.0  224.39         88.0    9.9   \n",
       "\n",
       "   total_foods  protein  potassium  sodium   sugar     fat  on_a_diet  \n",
       "0         11.0    43.63     2228.0  1323.0  176.47   52.81        2.0  \n",
       "1          8.0   338.13     4930.0  9726.0   44.99  124.29        2.0  \n",
       "2         27.0    64.61     1694.0  2943.0  102.90   65.97        1.0  "
      ]
     },
     "execution_count": 78,
     "metadata": {},
     "output_type": "execute_result"
    }
   ],
   "source": [
    "# Preview diet dataframe\n",
    "diet.head(3)"
   ]
  },
  {
   "cell_type": "code",
   "execution_count": 79,
   "metadata": {},
   "outputs": [
    {
     "data": {
      "text/html": [
       "<div>\n",
       "<style scoped>\n",
       "    .dataframe tbody tr th:only-of-type {\n",
       "        vertical-align: middle;\n",
       "    }\n",
       "\n",
       "    .dataframe tbody tr th {\n",
       "        vertical-align: top;\n",
       "    }\n",
       "\n",
       "    .dataframe thead th {\n",
       "        text-align: right;\n",
       "    }\n",
       "</style>\n",
       "<table border=\"1\" class=\"dataframe\">\n",
       "  <thead>\n",
       "    <tr style=\"text-align: right;\">\n",
       "      <th></th>\n",
       "      <th>diastolic_1</th>\n",
       "      <th>diastolic_2</th>\n",
       "      <th>diastolic_3</th>\n",
       "      <th>diastolic_4</th>\n",
       "      <th>systolic_1</th>\n",
       "      <th>systolic_2</th>\n",
       "      <th>systolic_3</th>\n",
       "      <th>systolic_4</th>\n",
       "      <th>bp_time</th>\n",
       "      <th>bp_comment</th>\n",
       "      <th>bp_status</th>\n",
       "      <th>height</th>\n",
       "      <th>weight</th>\n",
       "    </tr>\n",
       "  </thead>\n",
       "  <tbody>\n",
       "    <tr>\n",
       "      <th>0</th>\n",
       "      <td>72.0</td>\n",
       "      <td>76.0</td>\n",
       "      <td>74.0</td>\n",
       "      <td>NaN</td>\n",
       "      <td>122.0</td>\n",
       "      <td>114.0</td>\n",
       "      <td>102.0</td>\n",
       "      <td>NaN</td>\n",
       "      <td>620.0</td>\n",
       "      <td>NaN</td>\n",
       "      <td>1</td>\n",
       "      <td>171.3</td>\n",
       "      <td>78.3</td>\n",
       "    </tr>\n",
       "    <tr>\n",
       "      <th>1</th>\n",
       "      <td>62.0</td>\n",
       "      <td>80.0</td>\n",
       "      <td>42.0</td>\n",
       "      <td>NaN</td>\n",
       "      <td>156.0</td>\n",
       "      <td>160.0</td>\n",
       "      <td>156.0</td>\n",
       "      <td>NaN</td>\n",
       "      <td>766.0</td>\n",
       "      <td>NaN</td>\n",
       "      <td>1</td>\n",
       "      <td>176.8</td>\n",
       "      <td>89.5</td>\n",
       "    </tr>\n",
       "    <tr>\n",
       "      <th>2</th>\n",
       "      <td>90.0</td>\n",
       "      <td>76.0</td>\n",
       "      <td>80.0</td>\n",
       "      <td>NaN</td>\n",
       "      <td>140.0</td>\n",
       "      <td>140.0</td>\n",
       "      <td>146.0</td>\n",
       "      <td>NaN</td>\n",
       "      <td>665.0</td>\n",
       "      <td>NaN</td>\n",
       "      <td>1</td>\n",
       "      <td>175.3</td>\n",
       "      <td>88.9</td>\n",
       "    </tr>\n",
       "  </tbody>\n",
       "</table>\n",
       "</div>"
      ],
      "text/plain": [
       "   diastolic_1  diastolic_2  diastolic_3  diastolic_4  systolic_1  systolic_2  \\\n",
       "0         72.0         76.0         74.0          NaN       122.0       114.0   \n",
       "1         62.0         80.0         42.0          NaN       156.0       160.0   \n",
       "2         90.0         76.0         80.0          NaN       140.0       140.0   \n",
       "\n",
       "   systolic_3  systolic_4  bp_time  bp_comment  bp_status  height  weight  \n",
       "0       102.0         NaN    620.0         NaN          1   171.3    78.3  \n",
       "1       156.0         NaN    766.0         NaN          1   176.8    89.5  \n",
       "2       146.0         NaN    665.0         NaN          1   175.3    88.9  "
      ]
     },
     "execution_count": 79,
     "metadata": {},
     "output_type": "execute_result"
    }
   ],
   "source": [
    "# Preview exams dataframe\n",
    "exam.head(3)"
   ]
  },
  {
   "cell_type": "markdown",
   "metadata": {},
   "source": [
    "After extracting the columns of importance to us and renameing the columns, we still need to handle our null values that we can see from previewing our cleaned datasets. \n",
    "### Handling Null Values\n",
    "Null values may not prove to be useful in solving our problem statement as we are determing risk of high blood pressure based on an individual's diet. Therefore, if there are no nutrientional values about an individual, we may not be able to properly train our model or make a prediction. \n",
    "\n",
    "[Back to Contents](#Contents:)"
   ]
  },
  {
   "cell_type": "code",
   "execution_count": 80,
   "metadata": {},
   "outputs": [
    {
     "data": {
      "text/plain": [
       "water          1152\n",
       "caffeine       1282\n",
       "alcohol        1282\n",
       "calcium        1282\n",
       "carbs          1282\n",
       "cholesterol    1282\n",
       "fiber          1282\n",
       "total_foods    1152\n",
       "protein        1282\n",
       "potassium      1282\n",
       "sodium         1282\n",
       "sugar          1282\n",
       "fat            1282\n",
       "on_a_diet      1030\n",
       "dtype: int64"
      ]
     },
     "execution_count": 80,
     "metadata": {},
     "output_type": "execute_result"
    }
   ],
   "source": [
    "diet.isna().sum()"
   ]
  },
  {
   "cell_type": "code",
   "execution_count": 81,
   "metadata": {},
   "outputs": [
    {
     "data": {
      "text/plain": [
       "diastolic_1    2641\n",
       "diastolic_2    2404\n",
       "diastolic_3    2405\n",
       "diastolic_4    9298\n",
       "systolic_1     2641\n",
       "systolic_2     2404\n",
       "systolic_3     2405\n",
       "systolic_4     9298\n",
       "bp_time         305\n",
       "bp_comment     9493\n",
       "bp_status         0\n",
       "height          746\n",
       "weight           90\n",
       "dtype: int64"
      ]
     },
     "execution_count": 81,
     "metadata": {},
     "output_type": "execute_result"
    }
   ],
   "source": [
    "exam.isna().sum()"
   ]
  },
  {
   "cell_type": "markdown",
   "metadata": {},
   "source": [
    "### Exploratory Data Analysis \n",
    "[Back to Contents](#Contents:)"
   ]
  },
  {
   "cell_type": "markdown",
   "metadata": {},
   "source": [
    "### Visualizations\n",
    "[Back to Contents](#Contents:)"
   ]
  },
  {
   "cell_type": "markdown",
   "metadata": {},
   "source": [
    "### Preprocessing \n",
    "[Back to Contents](#Contents:)"
   ]
  },
  {
   "cell_type": "markdown",
   "metadata": {},
   "source": [
    "### Regression Modeling \n",
    "[Back to Contents](#Contents:)"
   ]
  },
  {
   "cell_type": "markdown",
   "metadata": {},
   "source": [
    "### Lasso \n",
    "[Back to Contents](#Contents:)"
   ]
  },
  {
   "cell_type": "markdown",
   "metadata": {},
   "source": [
    "### Ridge \n",
    "[Back to Contents](#Contents:)"
   ]
  },
  {
   "cell_type": "markdown",
   "metadata": {},
   "source": [
    "### Elastic Net\n",
    "[Back to Contents](#Contents:)"
   ]
  },
  {
   "cell_type": "markdown",
   "metadata": {},
   "source": [
    "### Outside Research\n",
    "[Back to Contents](#Contents:)"
   ]
  },
  {
   "cell_type": "markdown",
   "metadata": {},
   "source": [
    "### Conclusions \n",
    "[Back to Contents](#Contents:)"
   ]
  },
  {
   "cell_type": "markdown",
   "metadata": {},
   "source": [
    "### Recommendations \n",
    "[Back to Contents](#Contents:)"
   ]
  },
  {
   "cell_type": "markdown",
   "metadata": {},
   "source": [
    "### Sources\n",
    "[Back to Contents](#Contents:)\n",
    "- [Blood Pressure Matters](https://newsinhealth.nih.gov/2016/01/blood-pressure-matters)\n",
    "- [Dietary Data](https://wwwn.cdc.gov/nchs/nhanes/Search/DataPage.aspx?Component=Dietary&CycleBeginYear=2013)\n",
    "- [Dietary Variable List](https://wwwn.cdc.gov/Nchs/Nhanes/Search/variablelist.aspx?Component=Dietary&CycleBeginYear=2013)\n",
    "- [Examination Data](https://wwwn.cdc.gov/Nchs/Nhanes/Search/DataPage.aspx?Component=Examination&CycleBeginYear=2013)\n",
    "- [Examination Variable List](https://wwwn.cdc.gov/Nchs/Nhanes/Search/variablelist.aspx?Component=Examination&CycleBeginYear=2013)\n",
    "- [NHANES Datasets](https://www.kaggle.com/cdc/national-health-and-nutrition-examination-survey#diet.csv)"
   ]
  },
  {
   "cell_type": "code",
   "execution_count": null,
   "metadata": {},
   "outputs": [],
   "source": []
  }
 ],
 "metadata": {
  "kernelspec": {
   "display_name": "Python 3",
   "language": "python",
   "name": "python3"
  },
  "language_info": {
   "codemirror_mode": {
    "name": "ipython",
    "version": 3
   },
   "file_extension": ".py",
   "mimetype": "text/x-python",
   "name": "python",
   "nbconvert_exporter": "python",
   "pygments_lexer": "ipython3",
   "version": "3.7.4"
  }
 },
 "nbformat": 4,
 "nbformat_minor": 2
}
